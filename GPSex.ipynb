{
 "cells": [
  {
   "cell_type": "markdown",
   "metadata": {},
   "source": [
    "1. 讀取 GPS 資料(原始)"
   ]
  },
  {
   "cell_type": "code",
   "execution_count": null,
   "metadata": {},
   "outputs": [],
   "source": [
    "import pandas as pd\n",
    "GPS_Data = pd.read_csv('******',encoding = 'utf-8')\n",
    "# 取起點與終點\n",
    "GPS_Data = GPS_Data.head(270).tail(100)\n",
    "print(GPS_Data)\n",
    "print(GPS_Data.columns)\n",
    "lanlot = GPS_Data[['lon','lat']]\n",
    "print(lanlot.iat[1,0])"
   ]
  },
  {
   "cell_type": "markdown",
   "metadata": {},
   "source": [
    "2. 畫出圖來並標記於地圖"
   ]
  },
  {
   "cell_type": "code",
   "execution_count": null,
   "metadata": {},
   "outputs": [],
   "source": [
    "import folium\n",
    "m = folium.Map((lanlot.iat[1,1],lanlot.iat[1,0]),zoom_start=18)\n",
    "for i in range(len(lanlot.index)):\n",
    "    folium.CircleMarker(location=(lanlot.iat[i,1],lanlot.iat[i,0]),radius=2,color = \"blue\").add_to(m)\n",
    "m"
   ]
  },
  {
   "cell_type": "markdown",
   "metadata": {},
   "source": [
    "3. 找出兩點之間距離與時間差"
   ]
  },
  {
   "cell_type": "code",
   "execution_count": null,
   "metadata": {},
   "outputs": [],
   "source": [
    "# 建立dataframe\n",
    "import datetime\n",
    "import math\n",
    "import matplotlib.pyplot as plt\n",
    "import seaborn as sns\n",
    "lon = GPS_Data['lon']\n",
    "lat = GPS_Data['lat']\n",
    "Time = GPS_Data['time']\n",
    "FMT = '%Y-%m-%d %H:%M:%S'\n",
    "TimeDiff = []; lonDiff = []; latDiff = []; distance = []; vector = []\n",
    "\n",
    "#for i in range(1,len(Time)):\n",
    "for i in range(171,270):\n",
    "    # 時間差計算\n",
    "    s = datetime.datetime.strptime(Time[i], FMT) - datetime.datetime.strptime(Time[i-1], FMT)\n",
    "    TimeDiff.append(int(s.total_seconds()))\n",
    "    # 經度差計算\n",
    "    r = lon[i] - lon[i-1]\n",
    "    lonDiff.append(r)\n",
    "    # 緯度差計算\n",
    "    k = lat[i] - lat[i-1]\n",
    "    latDiff.append(k)\n",
    "    # 距離計算\n",
    "    c = math.sqrt(r**2+k**2)\n",
    "    distance.append(c)\n",
    "    # 速度計算\n",
    "    if (int(s.total_seconds()) == 0):\n",
    "        vector.append(0)\n",
    "    else:\n",
    "        v = c/int(s.total_seconds())\n",
    "        vector.append(v)\n",
    "plt.hist(vector,color='g',alpha = 0.75)\n",
    "plt.close()\n",
    "figbox = plt.figure()\n",
    "print(vector)\n",
    "sns.boxplot(x=vector)\n",
    "figbox.savefig('boxplotEX.png')"
   ]
  },
  {
   "cell_type": "markdown",
   "metadata": {},
   "source": [
    "4.1 使用廣義線性模型進行點平滑化"
   ]
  },
  {
   "cell_type": "code",
   "execution_count": null,
   "metadata": {},
   "outputs": [],
   "source": [
    "import statsmodels.api as sm\n",
    "import statsmodels.formula.api as smf\n",
    "Predict_lat = []\n",
    "for i in range(1,21):\n",
    "    GPS_DataR = GPS_Data.head(5*i).tail(5)\n",
    "    model_GLM = smf.glm(formula = \"lat ~ lon\",data = GPS_DataR,family = sm.families.Gaussian())\n",
    "    # fit the model\n",
    "    result_GLM = model_GLM.fit()\n",
    "    # display the result\n",
    "    result_GLM.summary()\n",
    "    # prediction\n",
    "    prediction_GLM = result_GLM.predict()\n",
    "    #Predict_lat = prediction_GLM\n",
    "    for j in range(5):\n",
    "       Predict_lat.append(prediction_GLM[j])\n",
    "#figGLM = plt.figure()\n",
    "plt.plot(lon,lat,color=\"b\")\n",
    "#print(Predict_lat[0])\n",
    "plt.plot(lon,Predict_lat,  'g')\n",
    "#figGLM.savefig('glmOr.png')"
   ]
  },
  {
   "cell_type": "markdown",
   "metadata": {},
   "source": [
    "4.2 使用區域性回歸模型(local regression)進行點平滑化"
   ]
  },
  {
   "cell_type": "code",
   "execution_count": null,
   "metadata": {},
   "outputs": [],
   "source": [
    "import statsmodels.api as sm\n",
    "x = lat\n",
    "y = lon\n",
    "model_lowess = sm.nonparametric.lowess(x,y, frac= 0.05 , it=3)\n",
    "fig = plt.figure()\n",
    "plt.plot(lon,lat,color=\"b\")\n",
    "plt.plot(model_lowess[:,0],model_lowess[:,1],  '-r')\n",
    "fig.savefig('loessEX.png')"
   ]
  },
  {
   "cell_type": "markdown",
   "metadata": {},
   "source": [
    "5. 畫出平滑化後的點並標記在地圖"
   ]
  },
  {
   "cell_type": "code",
   "execution_count": null,
   "metadata": {},
   "outputs": [],
   "source": [
    "import folium\n",
    "n = folium.Map((model_lowess[0,1],lanlot.iat[1,0]),zoom_start=18)\n",
    "for i in range(len(lanlot.index)):\n",
    "    # 原資料點\n",
    "    folium.CircleMarker(location=(lanlot.iat[i,1],lanlot.iat[i,0]),radius=2,color = \"blue\").add_to(n)\n",
    "    # loess 資料點\n",
    "    folium.CircleMarker(location=(model_lowess[i,1],model_lowess[i,0]),radius=2,color = \"red\").add_to(n)\n",
    "    # 分段 glm 資料點\n",
    "    folium.CircleMarker(location=(Predict_lat[i],lanlot.iat[i,0]),radius=2,color = \"green\").add_to(n)\n",
    "n"
   ]
  }
 ],
 "metadata": {
  "kernelspec": {
   "display_name": "Python 3",
   "language": "python",
   "name": "python3"
  },
  "language_info": {
   "codemirror_mode": {
    "name": "ipython",
    "version": 3
   },
   "file_extension": ".py",
   "mimetype": "text/x-python",
   "name": "python",
   "nbconvert_exporter": "python",
   "pygments_lexer": "ipython3",
   "version": "3.11.5"
  }
 },
 "nbformat": 4,
 "nbformat_minor": 2
}
